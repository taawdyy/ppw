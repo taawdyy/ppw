{
  "nbformat": 4,
  "nbformat_minor": 0,
  "metadata": {
    "colab": {
      "provenance": []
    },
    "kernelspec": {
      "name": "python3",
      "display_name": "Python 3"
    },
    "language_info": {
      "name": "python"
    }
  },
  "cells": [
    {
      "cell_type": "markdown",
      "source": [
        "**PENCARIAN DAN PENAMBANGAN WEB - TUGAS 2 : Membuat VSM dan Menghitung TF-IDF berdasarkan hasil crawling berita**"
      ],
      "metadata": {
        "id": "E_liRkOyRYrT"
      }
    },
    {
      "cell_type": "markdown",
      "source": [
        "Nama : Isnita Widyur Rahmah\n",
        "NIM : 220411100048\n",
        "Kelas : IF 7A"
      ],
      "metadata": {
        "id": "wVIyyFt8Rjj9"
      }
    },
    {
      "cell_type": "markdown",
      "source": [
        "Link Project : https://github.com/taawdyy/ppw"
      ],
      "metadata": {
        "id": "lmX0HnDfRlg0"
      }
    },
    {
      "cell_type": "markdown",
      "source": [
        "**Crawling Berita Online (CNN Indonesia)**"
      ],
      "metadata": {
        "id": "fRxFWwZORoNM"
      }
    },
    {
      "cell_type": "markdown",
      "source": [
        "Crawling berita adalah proses otomatisasi pengambilan data dari situs web berita atau sumber informasi lainnya untuk tujuan analisis, penyimpanan, atau penyajian informasi. Proses ini dilakukan oleh program atau skrip yang dikenal sebagai web crawler atau spider"
      ],
      "metadata": {
        "id": "7C4RYNu-Rp11"
      }
    },
    {
      "cell_type": "markdown",
      "source": [
        "Import Library"
      ],
      "metadata": {
        "id": "XTcG24_9SkgI"
      }
    },
    {
      "cell_type": "code",
      "source": [
        "pip install requests beautifulsoup4 pandas\n"
      ],
      "metadata": {
        "colab": {
          "base_uri": "https://localhost:8080/"
        },
        "id": "lFs273JYhWXz",
        "outputId": "6365c6c1-b9dd-4ea1-d693-50cf42571b94"
      },
      "execution_count": 97,
      "outputs": [
        {
          "output_type": "stream",
          "name": "stdout",
          "text": [
            "Requirement already satisfied: requests in /usr/local/lib/python3.10/dist-packages (2.32.3)\n",
            "Requirement already satisfied: beautifulsoup4 in /usr/local/lib/python3.10/dist-packages (4.12.3)\n",
            "Requirement already satisfied: pandas in /usr/local/lib/python3.10/dist-packages (2.1.4)\n",
            "Requirement already satisfied: charset-normalizer<4,>=2 in /usr/local/lib/python3.10/dist-packages (from requests) (3.3.2)\n",
            "Requirement already satisfied: idna<4,>=2.5 in /usr/local/lib/python3.10/dist-packages (from requests) (3.8)\n",
            "Requirement already satisfied: urllib3<3,>=1.21.1 in /usr/local/lib/python3.10/dist-packages (from requests) (2.0.7)\n",
            "Requirement already satisfied: certifi>=2017.4.17 in /usr/local/lib/python3.10/dist-packages (from requests) (2024.8.30)\n",
            "Requirement already satisfied: soupsieve>1.2 in /usr/local/lib/python3.10/dist-packages (from beautifulsoup4) (2.6)\n",
            "Requirement already satisfied: numpy<2,>=1.22.4 in /usr/local/lib/python3.10/dist-packages (from pandas) (1.26.4)\n",
            "Requirement already satisfied: python-dateutil>=2.8.2 in /usr/local/lib/python3.10/dist-packages (from pandas) (2.8.2)\n",
            "Requirement already satisfied: pytz>=2020.1 in /usr/local/lib/python3.10/dist-packages (from pandas) (2024.1)\n",
            "Requirement already satisfied: tzdata>=2022.1 in /usr/local/lib/python3.10/dist-packages (from pandas) (2024.1)\n",
            "Requirement already satisfied: six>=1.5 in /usr/local/lib/python3.10/dist-packages (from python-dateutil>=2.8.2->pandas) (1.16.0)\n"
          ]
        }
      ]
    },
    {
      "cell_type": "code",
      "source": [
        "import requests\n",
        "import pandas as pd\n",
        "from bs4 import BeautifulSoup"
      ],
      "metadata": {
        "id": "RnNYLmx4rTy-"
      },
      "execution_count": 87,
      "outputs": []
    },
    {
      "cell_type": "markdown",
      "source": [
        "requests digunakan untuk mengambil halaman web, BeautifulSoup untuk mengekstrak informasi dari konten HTML, dan pandas untuk menyimpan dan mengolah data yang diambil."
      ],
      "metadata": {
        "id": "G6_0lMKxSzfd"
      }
    },
    {
      "cell_type": "markdown",
      "source": [
        "Mendefinisikan URL"
      ],
      "metadata": {
        "id": "b1B_gJmcS_Wr"
      }
    },
    {
      "cell_type": "code",
      "source": [
        "category_urls = [\n",
        "    'https://www.cnnindonesia.com/ekonomi/indeks/5',\n",
        "    'https://www.cnnindonesia.com/olahraga/indeks/7'\n",
        "]"
      ],
      "metadata": {
        "id": "69hA1wiurdg5"
      },
      "execution_count": 98,
      "outputs": []
    },
    {
      "cell_type": "markdown",
      "source": [
        "Mengumpulkan Data"
      ],
      "metadata": {
        "id": "epueqowbTMuX"
      }
    },
    {
      "cell_type": "code",
      "source": [
        "def crawl_article(url):\n",
        "    response = requests.get(url)\n",
        "    soup = BeautifulSoup(response.content, 'html.parser')\n",
        "\n",
        "    # Mengambil judul\n",
        "    title_element = soup.find('h1', class_='text-cnn_black')\n",
        "    title = title_element.get_text().strip() if title_element else 'Judul tidak ditemukan'\n",
        "\n",
        "    # Mengambil Isi\n",
        "    content_div = soup.find('div', class_='detail-text')\n",
        "    if content_div:\n",
        "        paragraphs = content_div.find_all('p')\n",
        "        content = \"\\n\".join([p.get_text().strip() for p in paragraphs])\n",
        "    else:\n",
        "        content = 'Isi artikel tidak ditemukan'\n",
        "\n",
        "    # Mengambil tanggal\n",
        "    date_div = soup.find('div', class_='text-cnn_grey text-sm mb-4')\n",
        "    date_text = date_div.text.strip() if date_div else 'Tanggal tidak ditemukan'\n",
        "\n",
        "    # Mengambil kategori\n",
        "    cattegory_div = soup.find('a', class_=\"text-sm text-cnn_black_light3 hover:text-cnn_red gtm_breadcrumb_kanal\")\n",
        "    cattegory = cattegory_div.text.strip() if cattegory_div else 'Kategori tidak ditemukan'\n",
        "\n",
        "    return {'Judul': title, 'Isi': content, 'Tanggal': date_text, 'Kategori': cattegory}"
      ],
      "metadata": {
        "id": "FFMlb7POrxFP"
      },
      "execution_count": 106,
      "outputs": []
    },
    {
      "cell_type": "markdown",
      "source": [
        "Melakukan Crawling Web"
      ],
      "metadata": {
        "id": "4Se2LyZnTtVn"
      }
    },
    {
      "cell_type": "code",
      "source": [
        "def crawl_page(url, article_count, max_articles, articles):\n",
        "    response = requests.get(url)\n",
        "    soup = BeautifulSoup(response.content, 'html.parser')\n",
        "\n",
        "    article_links = soup.find_all('a', class_='flex group items-center gap-4')\n",
        "    for link in article_links:\n",
        "        if article_count >= max_articles:\n",
        "            return article_count\n",
        "        article_url = link['href']\n",
        "        article = crawl_article(article_url)\n",
        "        articles.append(article)\n",
        "        article_count += 1\n",
        "\n",
        "    next_button = soup.find('a', class_='inline-flex items-center justify-center w-[30px] h-[30px]')\n",
        "    next_url = next_button['href'] if next_button else None\n",
        "\n",
        "    if next_url and article_count < max_articles:\n",
        "        return crawl_page(next_url, article_count, max_articles, articles)\n",
        "\n",
        "    return article_count\n"
      ],
      "metadata": {
        "id": "4vDptUts3IHh"
      },
      "execution_count": 107,
      "outputs": []
    },
    {
      "cell_type": "markdown",
      "source": [
        "Mengumpulkan Artikel Berita dari berbagai Kategori"
      ],
      "metadata": {
        "id": "d1QXPgkmT025"
      }
    },
    {
      "cell_type": "code",
      "source": [
        "def crawl_category(url, max_articles):\n",
        "    articles = []\n",
        "    article_count = 0\n",
        "    print(f'\\nMengambil data dari {url}')\n",
        "    article_count = crawl_page(url, article_count, max_articles, articles)\n",
        "    return articles"
      ],
      "metadata": {
        "id": "VN2TAz2S3NL3"
      },
      "execution_count": 108,
      "outputs": []
    },
    {
      "cell_type": "markdown",
      "source": [
        "Mengambil Artikel Berita dari beberapa Kategori yang telah ditentukan dalam category_urls."
      ],
      "metadata": {
        "id": "087j1RZNUOtT"
      }
    },
    {
      "cell_type": "code",
      "source": [
        "max_articles_per_category = 50\n",
        "all_articles = []\n",
        "\n",
        "for url in category_urls:\n",
        "    articles = crawl_category(url, max_articles_per_category)\n",
        "    all_articles.extend(articles)"
      ],
      "metadata": {
        "colab": {
          "base_uri": "https://localhost:8080/"
        },
        "id": "5c3gxi9E3Vr_",
        "outputId": "3f13610e-a57d-4387-db98-2eb562fd42d1"
      },
      "execution_count": 109,
      "outputs": [
        {
          "output_type": "stream",
          "name": "stdout",
          "text": [
            "\n",
            "Mengambil data dari https://www.cnnindonesia.com/ekonomi/indeks/5\n",
            "\n",
            "Mengambil data dari https://www.cnnindonesia.com/olahraga/indeks/7\n"
          ]
        }
      ]
    },
    {
      "cell_type": "markdown",
      "source": [
        "Konversi ke dalam DataFrame"
      ],
      "metadata": {
        "id": "lDM8fns8UT_f"
      }
    },
    {
      "cell_type": "code",
      "source": [
        "df = pd.DataFrame(all_articles)\n",
        "df"
      ],
      "metadata": {
        "colab": {
          "base_uri": "https://localhost:8080/",
          "height": 26904
        },
        "id": "LjT-Ktoe3jx1",
        "outputId": "9a31e5df-a775-4d09-b117-971edaa7fe8e"
      },
      "execution_count": 110,
      "outputs": [
        {
          "output_type": "execute_result",
          "data": {
            "text/plain": [
              "                                                Judul  \\\n",
              "0   Pertemuan Sri Mulyani-Prabowo Tak Banyak Bahas...   \n",
              "1   Pebisnis Minta Jokowi Cabut Larangan Jual Roko...   \n",
              "2                IHSG Melemah Tipis ke 7.760 Sore Ini   \n",
              "3   Rupiah Menguat Rp15.402 per Dolar AS Usai Deba...   \n",
              "4   Sri Mulyani Usai Nonton Timnas-Australia: Teri...   \n",
              "..                                                ...   \n",
              "95              Hasil Liga 1: PSM vs Persib Sama Kuat   \n",
              "96  Jokowi Beri Bonus Rp36,25 Miliar ke Peraih Med...   \n",
              "97  Megawati Ungkap Target di Liga Korea: Jadi Pem...   \n",
              "98  Media Vietnam: Indonesia Buat Kejutan Besar La...   \n",
              "99  Respons PSSI soal 'Penonton Siluman' di Indone...   \n",
              "\n",
              "                                                  Isi  \\\n",
              "0   Wakil Menteri Keuangan II Thomas Djiwandono me...   \n",
              "1   Gabungan pengusaha rokok dan petani tembakau m...   \n",
              "2   Indeks Harga Saham Gabungan (IHSG) ditutup di ...   \n",
              "3   Nilai tukar rupiah berada di level Rp15.402 pe...   \n",
              "4   Menteri Keuangan Sri MulyaniÂ berkomentar soal...   \n",
              "..                                                ...   \n",
              "95  PSM Makassar harus puas berbagi satu angka usa...   \n",
              "96  Presiden Joko Widodo (Jokowi) menyerahkan bonu...   \n",
              "97  Megawati Hangestri Pertiwi mengungkapkan targe...   \n",
              "98  Media Vietnam memuji performa Timnas Indonesia...   \n",
              "99  Anggota Komite Eksekutif (Exco) PSSI Arya Sinu...   \n",
              "\n",
              "                        Tanggal  Kategori  \n",
              "0   Rabu, 11 Sep 2024 18:10 WIB   Ekonomi  \n",
              "1   Rabu, 11 Sep 2024 17:31 WIB   Ekonomi  \n",
              "2   Rabu, 11 Sep 2024 16:37 WIB   Ekonomi  \n",
              "3   Rabu, 11 Sep 2024 16:24 WIB   Ekonomi  \n",
              "4   Rabu, 11 Sep 2024 15:47 WIB   Ekonomi  \n",
              "..                          ...       ...  \n",
              "95  Rabu, 11 Sep 2024 17:25 WIB  Olahraga  \n",
              "96  Rabu, 11 Sep 2024 17:13 WIB  Olahraga  \n",
              "97  Rabu, 11 Sep 2024 16:49 WIB  Olahraga  \n",
              "98  Rabu, 11 Sep 2024 16:24 WIB  Olahraga  \n",
              "99  Rabu, 11 Sep 2024 16:02 WIB  Olahraga  \n",
              "\n",
              "[100 rows x 4 columns]"
            ],
            "text/html": [
              "\n",
              "  <div id=\"df-3dd7a2ae-f146-4234-b208-736ae6b17ef3\" class=\"colab-df-container\">\n",
              "    <div>\n",
              "<style scoped>\n",
              "    .dataframe tbody tr th:only-of-type {\n",
              "        vertical-align: middle;\n",
              "    }\n",
              "\n",
              "    .dataframe tbody tr th {\n",
              "        vertical-align: top;\n",
              "    }\n",
              "\n",
              "    .dataframe thead th {\n",
              "        text-align: right;\n",
              "    }\n",
              "</style>\n",
              "<table border=\"1\" class=\"dataframe\">\n",
              "  <thead>\n",
              "    <tr style=\"text-align: right;\">\n",
              "      <th></th>\n",
              "      <th>Judul</th>\n",
              "      <th>Isi</th>\n",
              "      <th>Tanggal</th>\n",
              "      <th>Kategori</th>\n",
              "    </tr>\n",
              "  </thead>\n",
              "  <tbody>\n",
              "    <tr>\n",
              "      <th>0</th>\n",
              "      <td>Pertemuan Sri Mulyani-Prabowo Tak Banyak Bahas...</td>\n",
              "      <td>Wakil Menteri Keuangan II Thomas Djiwandono me...</td>\n",
              "      <td>Rabu, 11 Sep 2024 18:10 WIB</td>\n",
              "      <td>Ekonomi</td>\n",
              "    </tr>\n",
              "    <tr>\n",
              "      <th>1</th>\n",
              "      <td>Pebisnis Minta Jokowi Cabut Larangan Jual Roko...</td>\n",
              "      <td>Gabungan pengusaha rokok dan petani tembakau m...</td>\n",
              "      <td>Rabu, 11 Sep 2024 17:31 WIB</td>\n",
              "      <td>Ekonomi</td>\n",
              "    </tr>\n",
              "    <tr>\n",
              "      <th>2</th>\n",
              "      <td>IHSG Melemah Tipis ke 7.760 Sore Ini</td>\n",
              "      <td>Indeks Harga Saham Gabungan (IHSG) ditutup di ...</td>\n",
              "      <td>Rabu, 11 Sep 2024 16:37 WIB</td>\n",
              "      <td>Ekonomi</td>\n",
              "    </tr>\n",
              "    <tr>\n",
              "      <th>3</th>\n",
              "      <td>Rupiah Menguat Rp15.402 per Dolar AS Usai Deba...</td>\n",
              "      <td>Nilai tukar rupiah berada di level Rp15.402 pe...</td>\n",
              "      <td>Rabu, 11 Sep 2024 16:24 WIB</td>\n",
              "      <td>Ekonomi</td>\n",
              "    </tr>\n",
              "    <tr>\n",
              "      <th>4</th>\n",
              "      <td>Sri Mulyani Usai Nonton Timnas-Australia: Teri...</td>\n",
              "      <td>Menteri Keuangan Sri MulyaniÂ berkomentar soal...</td>\n",
              "      <td>Rabu, 11 Sep 2024 15:47 WIB</td>\n",
              "      <td>Ekonomi</td>\n",
              "    </tr>\n",
              "    <tr>\n",
              "      <th>...</th>\n",
              "      <td>...</td>\n",
              "      <td>...</td>\n",
              "      <td>...</td>\n",
              "      <td>...</td>\n",
              "    </tr>\n",
              "    <tr>\n",
              "      <th>95</th>\n",
              "      <td>Hasil Liga 1: PSM vs Persib Sama Kuat</td>\n",
              "      <td>PSM Makassar harus puas berbagi satu angka usa...</td>\n",
              "      <td>Rabu, 11 Sep 2024 17:25 WIB</td>\n",
              "      <td>Olahraga</td>\n",
              "    </tr>\n",
              "    <tr>\n",
              "      <th>96</th>\n",
              "      <td>Jokowi Beri Bonus Rp36,25 Miliar ke Peraih Med...</td>\n",
              "      <td>Presiden Joko Widodo (Jokowi) menyerahkan bonu...</td>\n",
              "      <td>Rabu, 11 Sep 2024 17:13 WIB</td>\n",
              "      <td>Olahraga</td>\n",
              "    </tr>\n",
              "    <tr>\n",
              "      <th>97</th>\n",
              "      <td>Megawati Ungkap Target di Liga Korea: Jadi Pem...</td>\n",
              "      <td>Megawati Hangestri Pertiwi mengungkapkan targe...</td>\n",
              "      <td>Rabu, 11 Sep 2024 16:49 WIB</td>\n",
              "      <td>Olahraga</td>\n",
              "    </tr>\n",
              "    <tr>\n",
              "      <th>98</th>\n",
              "      <td>Media Vietnam: Indonesia Buat Kejutan Besar La...</td>\n",
              "      <td>Media Vietnam memuji performa Timnas Indonesia...</td>\n",
              "      <td>Rabu, 11 Sep 2024 16:24 WIB</td>\n",
              "      <td>Olahraga</td>\n",
              "    </tr>\n",
              "    <tr>\n",
              "      <th>99</th>\n",
              "      <td>Respons PSSI soal 'Penonton Siluman' di Indone...</td>\n",
              "      <td>Anggota Komite Eksekutif (Exco) PSSI Arya Sinu...</td>\n",
              "      <td>Rabu, 11 Sep 2024 16:02 WIB</td>\n",
              "      <td>Olahraga</td>\n",
              "    </tr>\n",
              "  </tbody>\n",
              "</table>\n",
              "<p>100 rows × 4 columns</p>\n",
              "</div>\n",
              "    <div class=\"colab-df-buttons\">\n",
              "\n",
              "  <div class=\"colab-df-container\">\n",
              "    <button class=\"colab-df-convert\" onclick=\"convertToInteractive('df-3dd7a2ae-f146-4234-b208-736ae6b17ef3')\"\n",
              "            title=\"Convert this dataframe to an interactive table.\"\n",
              "            style=\"display:none;\">\n",
              "\n",
              "  <svg xmlns=\"http://www.w3.org/2000/svg\" height=\"24px\" viewBox=\"0 -960 960 960\">\n",
              "    <path d=\"M120-120v-720h720v720H120Zm60-500h600v-160H180v160Zm220 220h160v-160H400v160Zm0 220h160v-160H400v160ZM180-400h160v-160H180v160Zm440 0h160v-160H620v160ZM180-180h160v-160H180v160Zm440 0h160v-160H620v160Z\"/>\n",
              "  </svg>\n",
              "    </button>\n",
              "\n",
              "  <style>\n",
              "    .colab-df-container {\n",
              "      display:flex;\n",
              "      gap: 12px;\n",
              "    }\n",
              "\n",
              "    .colab-df-convert {\n",
              "      background-color: #E8F0FE;\n",
              "      border: none;\n",
              "      border-radius: 50%;\n",
              "      cursor: pointer;\n",
              "      display: none;\n",
              "      fill: #1967D2;\n",
              "      height: 32px;\n",
              "      padding: 0 0 0 0;\n",
              "      width: 32px;\n",
              "    }\n",
              "\n",
              "    .colab-df-convert:hover {\n",
              "      background-color: #E2EBFA;\n",
              "      box-shadow: 0px 1px 2px rgba(60, 64, 67, 0.3), 0px 1px 3px 1px rgba(60, 64, 67, 0.15);\n",
              "      fill: #174EA6;\n",
              "    }\n",
              "\n",
              "    .colab-df-buttons div {\n",
              "      margin-bottom: 4px;\n",
              "    }\n",
              "\n",
              "    [theme=dark] .colab-df-convert {\n",
              "      background-color: #3B4455;\n",
              "      fill: #D2E3FC;\n",
              "    }\n",
              "\n",
              "    [theme=dark] .colab-df-convert:hover {\n",
              "      background-color: #434B5C;\n",
              "      box-shadow: 0px 1px 3px 1px rgba(0, 0, 0, 0.15);\n",
              "      filter: drop-shadow(0px 1px 2px rgba(0, 0, 0, 0.3));\n",
              "      fill: #FFFFFF;\n",
              "    }\n",
              "  </style>\n",
              "\n",
              "    <script>\n",
              "      const buttonEl =\n",
              "        document.querySelector('#df-3dd7a2ae-f146-4234-b208-736ae6b17ef3 button.colab-df-convert');\n",
              "      buttonEl.style.display =\n",
              "        google.colab.kernel.accessAllowed ? 'block' : 'none';\n",
              "\n",
              "      async function convertToInteractive(key) {\n",
              "        const element = document.querySelector('#df-3dd7a2ae-f146-4234-b208-736ae6b17ef3');\n",
              "        const dataTable =\n",
              "          await google.colab.kernel.invokeFunction('convertToInteractive',\n",
              "                                                    [key], {});\n",
              "        if (!dataTable) return;\n",
              "\n",
              "        const docLinkHtml = 'Like what you see? Visit the ' +\n",
              "          '<a target=\"_blank\" href=https://colab.research.google.com/notebooks/data_table.ipynb>data table notebook</a>'\n",
              "          + ' to learn more about interactive tables.';\n",
              "        element.innerHTML = '';\n",
              "        dataTable['output_type'] = 'display_data';\n",
              "        await google.colab.output.renderOutput(dataTable, element);\n",
              "        const docLink = document.createElement('div');\n",
              "        docLink.innerHTML = docLinkHtml;\n",
              "        element.appendChild(docLink);\n",
              "      }\n",
              "    </script>\n",
              "  </div>\n",
              "\n",
              "\n",
              "<div id=\"df-1e206251-024f-42fd-8c52-0c57afb08276\">\n",
              "  <button class=\"colab-df-quickchart\" onclick=\"quickchart('df-1e206251-024f-42fd-8c52-0c57afb08276')\"\n",
              "            title=\"Suggest charts\"\n",
              "            style=\"display:none;\">\n",
              "\n",
              "<svg xmlns=\"http://www.w3.org/2000/svg\" height=\"24px\"viewBox=\"0 0 24 24\"\n",
              "     width=\"24px\">\n",
              "    <g>\n",
              "        <path d=\"M19 3H5c-1.1 0-2 .9-2 2v14c0 1.1.9 2 2 2h14c1.1 0 2-.9 2-2V5c0-1.1-.9-2-2-2zM9 17H7v-7h2v7zm4 0h-2V7h2v10zm4 0h-2v-4h2v4z\"/>\n",
              "    </g>\n",
              "</svg>\n",
              "  </button>\n",
              "\n",
              "<style>\n",
              "  .colab-df-quickchart {\n",
              "      --bg-color: #E8F0FE;\n",
              "      --fill-color: #1967D2;\n",
              "      --hover-bg-color: #E2EBFA;\n",
              "      --hover-fill-color: #174EA6;\n",
              "      --disabled-fill-color: #AAA;\n",
              "      --disabled-bg-color: #DDD;\n",
              "  }\n",
              "\n",
              "  [theme=dark] .colab-df-quickchart {\n",
              "      --bg-color: #3B4455;\n",
              "      --fill-color: #D2E3FC;\n",
              "      --hover-bg-color: #434B5C;\n",
              "      --hover-fill-color: #FFFFFF;\n",
              "      --disabled-bg-color: #3B4455;\n",
              "      --disabled-fill-color: #666;\n",
              "  }\n",
              "\n",
              "  .colab-df-quickchart {\n",
              "    background-color: var(--bg-color);\n",
              "    border: none;\n",
              "    border-radius: 50%;\n",
              "    cursor: pointer;\n",
              "    display: none;\n",
              "    fill: var(--fill-color);\n",
              "    height: 32px;\n",
              "    padding: 0;\n",
              "    width: 32px;\n",
              "  }\n",
              "\n",
              "  .colab-df-quickchart:hover {\n",
              "    background-color: var(--hover-bg-color);\n",
              "    box-shadow: 0 1px 2px rgba(60, 64, 67, 0.3), 0 1px 3px 1px rgba(60, 64, 67, 0.15);\n",
              "    fill: var(--button-hover-fill-color);\n",
              "  }\n",
              "\n",
              "  .colab-df-quickchart-complete:disabled,\n",
              "  .colab-df-quickchart-complete:disabled:hover {\n",
              "    background-color: var(--disabled-bg-color);\n",
              "    fill: var(--disabled-fill-color);\n",
              "    box-shadow: none;\n",
              "  }\n",
              "\n",
              "  .colab-df-spinner {\n",
              "    border: 2px solid var(--fill-color);\n",
              "    border-color: transparent;\n",
              "    border-bottom-color: var(--fill-color);\n",
              "    animation:\n",
              "      spin 1s steps(1) infinite;\n",
              "  }\n",
              "\n",
              "  @keyframes spin {\n",
              "    0% {\n",
              "      border-color: transparent;\n",
              "      border-bottom-color: var(--fill-color);\n",
              "      border-left-color: var(--fill-color);\n",
              "    }\n",
              "    20% {\n",
              "      border-color: transparent;\n",
              "      border-left-color: var(--fill-color);\n",
              "      border-top-color: var(--fill-color);\n",
              "    }\n",
              "    30% {\n",
              "      border-color: transparent;\n",
              "      border-left-color: var(--fill-color);\n",
              "      border-top-color: var(--fill-color);\n",
              "      border-right-color: var(--fill-color);\n",
              "    }\n",
              "    40% {\n",
              "      border-color: transparent;\n",
              "      border-right-color: var(--fill-color);\n",
              "      border-top-color: var(--fill-color);\n",
              "    }\n",
              "    60% {\n",
              "      border-color: transparent;\n",
              "      border-right-color: var(--fill-color);\n",
              "    }\n",
              "    80% {\n",
              "      border-color: transparent;\n",
              "      border-right-color: var(--fill-color);\n",
              "      border-bottom-color: var(--fill-color);\n",
              "    }\n",
              "    90% {\n",
              "      border-color: transparent;\n",
              "      border-bottom-color: var(--fill-color);\n",
              "    }\n",
              "  }\n",
              "</style>\n",
              "\n",
              "  <script>\n",
              "    async function quickchart(key) {\n",
              "      const quickchartButtonEl =\n",
              "        document.querySelector('#' + key + ' button');\n",
              "      quickchartButtonEl.disabled = true;  // To prevent multiple clicks.\n",
              "      quickchartButtonEl.classList.add('colab-df-spinner');\n",
              "      try {\n",
              "        const charts = await google.colab.kernel.invokeFunction(\n",
              "            'suggestCharts', [key], {});\n",
              "      } catch (error) {\n",
              "        console.error('Error during call to suggestCharts:', error);\n",
              "      }\n",
              "      quickchartButtonEl.classList.remove('colab-df-spinner');\n",
              "      quickchartButtonEl.classList.add('colab-df-quickchart-complete');\n",
              "    }\n",
              "    (() => {\n",
              "      let quickchartButtonEl =\n",
              "        document.querySelector('#df-1e206251-024f-42fd-8c52-0c57afb08276 button');\n",
              "      quickchartButtonEl.style.display =\n",
              "        google.colab.kernel.accessAllowed ? 'block' : 'none';\n",
              "    })();\n",
              "  </script>\n",
              "</div>\n",
              "\n",
              "  <div id=\"id_058cbd3c-9f22-4df6-8dd7-777e87d4ce00\">\n",
              "    <style>\n",
              "      .colab-df-generate {\n",
              "        background-color: #E8F0FE;\n",
              "        border: none;\n",
              "        border-radius: 50%;\n",
              "        cursor: pointer;\n",
              "        display: none;\n",
              "        fill: #1967D2;\n",
              "        height: 32px;\n",
              "        padding: 0 0 0 0;\n",
              "        width: 32px;\n",
              "      }\n",
              "\n",
              "      .colab-df-generate:hover {\n",
              "        background-color: #E2EBFA;\n",
              "        box-shadow: 0px 1px 2px rgba(60, 64, 67, 0.3), 0px 1px 3px 1px rgba(60, 64, 67, 0.15);\n",
              "        fill: #174EA6;\n",
              "      }\n",
              "\n",
              "      [theme=dark] .colab-df-generate {\n",
              "        background-color: #3B4455;\n",
              "        fill: #D2E3FC;\n",
              "      }\n",
              "\n",
              "      [theme=dark] .colab-df-generate:hover {\n",
              "        background-color: #434B5C;\n",
              "        box-shadow: 0px 1px 3px 1px rgba(0, 0, 0, 0.15);\n",
              "        filter: drop-shadow(0px 1px 2px rgba(0, 0, 0, 0.3));\n",
              "        fill: #FFFFFF;\n",
              "      }\n",
              "    </style>\n",
              "    <button class=\"colab-df-generate\" onclick=\"generateWithVariable('df')\"\n",
              "            title=\"Generate code using this dataframe.\"\n",
              "            style=\"display:none;\">\n",
              "\n",
              "  <svg xmlns=\"http://www.w3.org/2000/svg\" height=\"24px\"viewBox=\"0 0 24 24\"\n",
              "       width=\"24px\">\n",
              "    <path d=\"M7,19H8.4L18.45,9,17,7.55,7,17.6ZM5,21V16.75L18.45,3.32a2,2,0,0,1,2.83,0l1.4,1.43a1.91,1.91,0,0,1,.58,1.4,1.91,1.91,0,0,1-.58,1.4L9.25,21ZM18.45,9,17,7.55Zm-12,3A5.31,5.31,0,0,0,4.9,8.1,5.31,5.31,0,0,0,1,6.5,5.31,5.31,0,0,0,4.9,4.9,5.31,5.31,0,0,0,6.5,1,5.31,5.31,0,0,0,8.1,4.9,5.31,5.31,0,0,0,12,6.5,5.46,5.46,0,0,0,6.5,12Z\"/>\n",
              "  </svg>\n",
              "    </button>\n",
              "    <script>\n",
              "      (() => {\n",
              "      const buttonEl =\n",
              "        document.querySelector('#id_058cbd3c-9f22-4df6-8dd7-777e87d4ce00 button.colab-df-generate');\n",
              "      buttonEl.style.display =\n",
              "        google.colab.kernel.accessAllowed ? 'block' : 'none';\n",
              "\n",
              "      buttonEl.onclick = () => {\n",
              "        google.colab.notebook.generateWithVariable('df');\n",
              "      }\n",
              "      })();\n",
              "    </script>\n",
              "  </div>\n",
              "\n",
              "    </div>\n",
              "  </div>\n"
            ],
            "application/vnd.google.colaboratory.intrinsic+json": {
              "type": "dataframe",
              "variable_name": "df",
              "summary": "{\n  \"name\": \"df\",\n  \"rows\": 100,\n  \"fields\": [\n    {\n      \"column\": \"Judul\",\n      \"properties\": {\n        \"dtype\": \"category\",\n        \"num_unique_values\": 40,\n        \"samples\": [\n          \"Sri Mulyani Naikkan Anggaran Belanja K/L Usai Bertemu Prabowo\",\n          \"Basuki Terbang ke IKN Cek Kesiapan Jelang Jokowi Pindah Kantor Besok\",\n          \"KKP Dukung Susu Ikan di Makan Gratis Prabowo: Sudah Ada Pembicaraan\"\n        ],\n        \"semantic_type\": \"\",\n        \"description\": \"\"\n      }\n    },\n    {\n      \"column\": \"Isi\",\n      \"properties\": {\n        \"dtype\": \"category\",\n        \"num_unique_values\": 40,\n        \"samples\": [\n          \"Menteri Keuangan Sri Mulyani\\u00a0resmi menambah anggaran belanja kementerian/lembaga (K/L) dari sebelumnya Rp976,8 triliun di RAPBN menjadi Rp1.160,09 triliun sesuai keputusan panja Belanja Pemerintah Pusat (BPP).\\nDirektur Jenderal Anggaran Kementerian Keuangan (Kemenkeu) Isa Rachmatarwata mengatakan perubahan dilakukan sesuai dengan arahan Presiden terpilih Prabowo Subianto yang bertemu dengan Sri Mulyani pada Senin (9/9).\\n\\\"Presiden terpilih meneliti satu per satu bersama Ibu Menteri dan Pak Wakil Menteri Keuangan II Thomas Djiwandono,\\\" kata Isa dalam Raker Panja Belanja di Badan Anggaran yang dikutip dari Antara, Rabu (11/9).\\nADVERTISEMENT\\nSCROLL TO CONTINUE WITH CONTENT\\nNamun, peningkatan anggaran KL ini tidak mengubah porsi anggaran belanja pemerintah pusat keseluruhan yang tetap Rp2.701,44 triliun. Sebab, kenaikan anggaran KL diambil dari porsi anggaran non KL.\\n\\nDengan demikian, maka anggaran non KL berubah atau turun dari Rp1.716,3 triliun di RAPBN 2025 menjadi Rp1.541,35 triliun.\\nOleh karena itu, defisit anggaran pun tetap Rp616,19 triliun atau 2,53 persen terhadap produk domestik bruto (PDB),\\nSebelumnya, Sri Mulyani dan Wakil Menteri Keuangan II Thomas Djiwandono memang menemui Prabowo untuk melaporkan perkembangan APBN.\\nSalah satu perkembangan yang dilaporkan adalah pelaksanaan serta outlook APBN 2024 yang akan ditutup pada Desember 2024 di bawah kepemimpinan presiden terpilih. Setelahnya, pada Selasa (10/9), rapat Banggar dilaksanakan.\\nLaporan berikutnya yakni mengenai pembahasan Rancangan Undang-Undang (RUU) Rancangan APBN (RAPBN 2025) di DPR dan arahan-arahan presiden terpilih mengenai berbagai usulan program dan anggaran yang disediakan.\\n[Gambas:Video CNN]\\n\",\n          \"Menteri Pekerjaan Umum dan Perumahan Rakyat (PUPR) merangkap Plt Kepala OIKN Basuki Hadimuljono bakal berangkat ke Ibu Kota Nusantara (IKN) pada siang ini (11/9).\\nKunjungan tersebut dalam rangka meninjau kesiapan pembangunan landasan pacu Bandara IKN\\u00a0jelang Jokowi\\u00a0berkantor\\u00a0di Nusantara hingga persiapan peletakan batu pertama alias groundbreaking proyek ke-8 pada 19-20 September 2024 mendatang.\\n\\\"Iya saya nanti jam 13.00 WIB berangkat ke (IKN),\\\" ucap Basuki di Kompleks Parlemen, Senayan, Jakarta Pusat, Rabu (11/9).\\nADVERTISEMENT\\nSCROLL TO CONTINUE WITH CONTENT\\nDirinya memastikan pembangunan bandara di IKN sudah rampung. Namun, ketika ditanya apakah bandara itu sudah bisa dipakai, ia menjawab harus mengecek kembali dengan Kementerian Perhubungan (Kemenhub) terkait layak fungsinya.\\n\\n\\\"Bandara Insya Allah sudah selesai dan makanya saya mau lihat karena besok Pak Presiden (Jokowi) akan ke sana,\\\" jelasnya.\\n\\\"(Bisa digunakannya) tergantung dengan Menteri Perhubungan (Budi Karya Sumadi) karena layak fungsinya dari Kementerian Perhubungan. Tapi menurut kami dari prasarana baik runway, taxi way, dan apron sudah selesai,\\\" imbuh Basuki lebih lanjut.\\nMenurutnya, pembangunan Bandara di IKN hanya tinggal pemasangan rambu penerangan landasan pacu atau runway edge light.\\n\\\"Saya kira kan harus ada lampu-lampu dulu itu, mudah-mudahan bisa segera,\\\" tuturnya.\\nDi samping itu, Basuki juga mengatakan Presiden Jokowi akan melakukan serangkaian groundbreaking saat dirinya berkantor di IKN selain pelaksanaan yang direncanakan pada 19-20 September mendatang.\\n\\\"Beliau sudah menyampaikan di media, bukan menetap, tapi kan muter-muter kemana-mana beliau dari operasinya dari IKN termasuk ada groundbreaking yang akan kita siapkan untuk dilaksanakan,\\\" kata Basuki.\\nMenhub Budi Karya Sumadi mengatakan sejumlah perkembangan yang cukup signifikan telah tercapai dalam pembangunan Bandara IKN.\\n\\\"Pembangunan runway per hari ini telah mencapai 1.975 meter. Ini masih sesuai target kita. Dalam waktu dekat ini akan rampung hingga 2.200 meter,\\\" jelas Budi dalam pernyataan yang dikeluarkan di Jakarta, Minggu (8/9).\\n\\n\\nPada akhir Agustus lalu, runway masih baru memiliki panjang 1.025 meter. Pembangunan terus berlangsung cepat meski kondisi cuaca terkadang gerimis dan hujan.\\nSelain runway, sejumlah perkembangan pada kawasan bandara telah terlihat. Di antaranya; terminal VVIP yang pembangunannya telah mencapai 90,16 persen\\nAdapun untuk jalan penunjang akses bandara saat ini sudah terbangun di atas 50 persen. Jalan akses utama telah siap 98,53 persen, jalan perimeter barat terbangun 66,96 persen, dan jalan perimeter timur sudah rampung 50,44 persen. Seluruh jalan ini nantinya yang akan menunjang akses dari dan menuju bandara.\\nSecara keseluruhan, progres pengerjaan bandara telah mencapai 74,79 persen dengan waktu pengerjaan 273 hari. Budi optimis bandara akan selesai dibangun secara keseluruhan sesuai target waktu, yakni pada 31 Desember 2024.\\n[Gambas:Video CNN]\",\n          \"Kementerian Kelautan dan Perikanan (KKP) menyebut saat ini sudah ada beberapa produsen\\u00a0susu ikan di Indonesia. Jenis susu ini diharapkan bisa menjadi menu pengganti susu sapi di program\\u00a0makan bergizi gratis Presiden Terpilih Prabowo\\u00a0Subianto.\\nDirjen Penguatan Daya Saing Produk Kelautan dan Perikanan KKP Budi Sulistyo\\u00a0menyebut salah satu pabrik pembuat susu ikan terbesar ada di Indramayu, Jawa Barat. Pabrik itu sudah mampu memproduksi 30 ton per tahun.\\n\\\"Ini mungkin satu solusi juga meningkatkan kesejahteraan nelayan karena bahan bakunya adalah ikan petek, ikan selar yang sebenarnya di pasar harganya rendah,\\\"\\u00a0 ujarnya dalam wawancara bersama CNN Indonesia TV, Selasa (10/9).\\nADVERTISEMENT\\nSCROLL TO CONTINUE WITH CONTENT\\nMenurutnya, pembicaraan dengan tim Prabowo sudah dimulai. Namun, memang pembahasannya baru di tahap awal.\\n\\n\\\"Tim yang bekerja untuk susu ikan sudah melakukan beberapa pembicaraan dengan berbagai pihak dan kita berharap ini menjadi solusi untuk memenuhi kebutuhan susu dan kami harap terus berkembang,\\\" imbuhnya.\\nBudi menjelaskan susu ikan ini adalah hasil olahan daging ikan melalui serangkaian proses dan pemurnian untuk menghasilkan konsentrat protein ikan.\\nKonsentrat protein ikan itu kemudian dicampur dengan berbagai bahan lain untuk menciptakan tekstur dan rasa yang mirip dengan susu konvensional. Selain lebih bergizi, Budi memastikan susu ikan tidak amis, tidak berbau dan tidak berwarna.\\nBudi mengakui saat ini susu ikan baru bisa menjadi pendamping dan melengkapi kekurangan kebutuhan susu sapi. Namun, apabila serius dikembangkan, susu ikan tak sekadar komplementer susu sapi, tapi bisa jadi pengganti.\\n\\n\\\"Saya yakin ke depan, kalau kita bekerja sama-sama, ini (susu ikan) dari awalnya komplementer, lalu jadi pendamping dan nanti bisa menjadi memenuhi kebutuhan (susu) di Indonesia,\\\" katanya.\\nIa berharap susu ikan yang tengah dikembangkan bisa menggantikan posisi susu sapi di masa depan. Sebab, kandungan gizinya diklaim lebih tinggi dari pada susu sapi.\\nAdapun susu ikan diklaim mengandung omega 3 yang tinggi dan memang dibutuhkan untuk mendukung pembentukan dan perkembangan otak sehingga bagus untuk mendukung masa pertumbuhan anak.\\n\\nSelain itu, berdasarkan penelitian dan pemeriksaan yang dilakukan KKP, kandungan susu ikan bebas dari alergen. Hal ini berbeda dengan susu sapi, yang kandungan omeganya rendah dan bisa memicu alergi.\\nKarenanya, ia berharap susu ikan ini bisa menjadi bagian dari pemenuhan program Makan Bergizi Gratis yang dicanangkan oleh Presiden terpilih Prabowo Subianto.\\n\\\"Kami berharap hasil inovasi ini menjadi penguat kebutuhan susu di Indonesia, terutama anak-anak yang sedang tumbuh,\\\" jelasnya.\\n[Gambas:Video CNN]\\n\"\n        ],\n        \"semantic_type\": \"\",\n        \"description\": \"\"\n      }\n    },\n    {\n      \"column\": \"Tanggal\",\n      \"properties\": {\n        \"dtype\": \"category\",\n        \"num_unique_values\": 37,\n        \"samples\": [\n          \"Rabu, 11 Sep 2024 11:40 WIB\",\n          \"Rabu, 11 Sep 2024 13:22 WIB\",\n          \"Rabu, 11 Sep 2024 15:47 WIB\"\n        ],\n        \"semantic_type\": \"\",\n        \"description\": \"\"\n      }\n    },\n    {\n      \"column\": \"Kategori\",\n      \"properties\": {\n        \"dtype\": \"category\",\n        \"num_unique_values\": 2,\n        \"samples\": [\n          \"Olahraga\",\n          \"Ekonomi\"\n        ],\n        \"semantic_type\": \"\",\n        \"description\": \"\"\n      }\n    }\n  ]\n}"
            }
          },
          "metadata": {},
          "execution_count": 110
        }
      ]
    },
    {
      "cell_type": "markdown",
      "source": [
        "Simpan dalam bentuk CSV"
      ],
      "metadata": {
        "id": "loF-Sb-8UklU"
      }
    },
    {
      "cell_type": "code",
      "source": [
        "df.to_csv('crawl_berita.csv', index=False, encoding='utf-8')"
      ],
      "metadata": {
        "id": "JZpzA3xf3lig"
      },
      "execution_count": 111,
      "outputs": []
    }
  ]
}